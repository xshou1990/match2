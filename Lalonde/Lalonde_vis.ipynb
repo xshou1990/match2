{
 "cells": [
  {
   "cell_type": "code",
   "execution_count": 5,
   "metadata": {},
   "outputs": [
    {
     "name": "stdout",
     "output_type": "stream",
     "text": [
      "Classifier was not pre-trained!\n",
      "10 1020.4668663424508 149.41666666666666\n"
     ]
    }
   ],
   "source": [
    "import sys\n",
    "sys.path.append('../')\n",
    "\n",
    "import numpy as np\n",
    "import pandas as pd\n",
    "import tensorflow as tf\n",
    "import random as rn\n",
    "from keras import backend as K\n",
    "import warnings\n",
    "warnings.simplefilter(action='ignore', category=FutureWarning)\n",
    "warnings.simplefilter(action='ignore', category=DeprecationWarning)\n",
    "\n",
    "from Match_SOM import MATCHSOM\n",
    "from utility import neuron_idx, idx_convert\n",
    "from metrics import aveNN_ATT,Tau_G\n",
    "from sklearn.model_selection import train_test_split\n",
    "import pickle\n",
    "import keras\n",
    "\n",
    "\n",
    "import time\n",
    "start = time.time()\n",
    "\n",
    "\n",
    "xty = pd.read_csv('../data/Lalonde_sc.csv',index_col = 0)\n",
    "\n",
    "data = xty.iloc[:,:-2].values\n",
    "\n",
    "ATT = []\n",
    "\n",
    "latent_dim = [10]\n",
    "\n",
    "for dim in latent_dim: \n",
    "    \n",
    "    train, test = train_test_split(xty, test_size=0.2,stratify = xty['assignment'], random_state = 0 )\n",
    "    Xtrain,ytrain = train.iloc[:,0:-2].values,train.iloc[:,-2].astype(int)\n",
    "    Xtest,ytest = test.iloc[:,0:-2].values,test.iloc[:,-2].astype(int)\n",
    "    \n",
    "    np.random.seed(0)\n",
    "    rn.seed(0)\n",
    "    config = tf.ConfigProto(intra_op_parallelism_threads=1,inter_op_parallelism_threads=1)\n",
    "    tf.set_random_seed(0)\n",
    "    sess = tf.Session(graph=tf.get_default_graph(), config=config)\n",
    "    K.set_session(sess)\n",
    "    \n",
    "    side = int(round(np.sqrt(5*np.sqrt(xty.shape[0])))) \n",
    "    map_size=(side,side)  \n",
    "    neuron_map = neuron_idx(map_size)  \n",
    "    \n",
    "    # Initialize model\n",
    "    matchsom = MATCHSOM(encoder_dims=[ Xtrain.shape[-1], dim ], map_size=map_size)    \n",
    "    optimizer = keras.optimizers.Adam(learning_rate=0.0001) #'adam' # \n",
    "    matchsom.initialize(ae_act='relu', ae_init='glorot_uniform')\n",
    "    matchsom.compile(gamma=1, optimizer=optimizer)\n",
    "    matchsom.fit(X_train = Xtrain, y_train=ytrain,\n",
    "                X_val=Xtest, y_val=ytest,\n",
    "                iterations=3000,\n",
    "                som_iterations=3000,\n",
    "                eval_interval=100,\n",
    "                save_epochs=10,\n",
    "                batch_size= 64,\n",
    "                Tmax= 10,\n",
    "                Tmin=0.1,\n",
    "                decay= 'exponential')\n",
    "        \n",
    "    \n",
    "    _, distance = matchsom.model.predict(data[2490:,:])\n",
    "    bmu = np.argmin(distance,axis=1)\n",
    "    bmu_idx = idx_convert(bmu,neuron_map)\n",
    "    att = aveNN_ATT(xty.iloc[2490:,:].reset_index(drop = True),bmu_idx,'cityblock')  # \n",
    "    tau_g = Tau_G(xty.iloc[2490:,:].reset_index(drop = True),bmu_idx,'cityblock') #\n",
    "    print(dim,att,tau_g)\n",
    "\n"
   ]
  },
  {
   "cell_type": "code",
   "execution_count": 8,
   "metadata": {},
   "outputs": [
    {
     "data": {
      "image/png": "[encoded data removed]",
      "text/plain": [
       "<Figure size 720x720 with 1 Axes>"
      ]
     },
     "metadata": {
      "needs_background": "light"
     },
     "output_type": "display_data"
    }
   ],
   "source": [
    "\n",
    "import matplotlib.pyplot as plt\n",
    "from collections import Counter \n",
    "\n",
    "#test = xty\n",
    "test = xty.iloc[2490:,:].reset_index(drop = True)\n",
    "\n",
    "plt.figure(figsize=(10, 10))\n",
    "\n",
    "# use different colors and markers for each label, control vs treatment\n",
    "markers = ['o', 's']\n",
    "colors = ['C0', 'C1']\n",
    "\n",
    "\n",
    "for i in [0,1]: \n",
    "    if i ==0:\n",
    "        x_vals = np.array(bmu_idx)[test.assignment==i][:,0]-0.05\n",
    "        y_vals = np.array(bmu_idx)[test.assignment==i][:,1]-0.05\n",
    "        \n",
    "        combos = list(zip(x_vals, y_vals))\n",
    "        weight_counter = Counter(combos)\n",
    "\n",
    "        weights = [weight_counter[(x_vals[i], y_vals[i])] for i, _ in enumerate(x_vals)]\n",
    "\n",
    "\n",
    "        plt.scatter(x_vals,y_vals,color = colors[i],marker = markers[i],s=10*np.array(weights), label ='Control')\n",
    "    else:\n",
    "        \n",
    "        x_vals = np.array(bmu_idx)[test.assignment==i][:,0]+0.1\n",
    "        y_vals = np.array(bmu_idx)[test.assignment==i][:,1]+0.1\n",
    "        \n",
    "        combos = list(zip(x_vals, y_vals))\n",
    "        weight_counter = Counter(combos)\n",
    "\n",
    "        weights = [weight_counter[(x_vals[i], y_vals[i])] for i, _ in enumerate(x_vals)]\n",
    "        plt.scatter(np.array(bmu_idx)[test.assignment==i][:,0],np.array(bmu_idx)[test.assignment==i][:,1],color = colors[i],marker = markers[i],s=10*np.array(weights) ,label = 'Treatment')\n",
    "\n",
    "plt.xlabel('SOM-X',fontsize = 18)\n",
    "plt.ylabel('SOM-Y',fontsize= 18)\n",
    "plt.xticks(fontsize=16)\n",
    "plt.yticks(fontsize=16)\n",
    "plt.xlim((-1,17))\n",
    "plt.ylim((-1,17))\n",
    "\n",
    "\n",
    "lgnd = plt.legend(loc= 'best',fontsize=16) #labels = ['control','treatment'],\n",
    "lgnd.legendHandles[0]._sizes = [10]\n",
    "lgnd.legendHandles[1]._sizes = [10]\n",
    "plt.show()"
   ]
  }
 ],
 "metadata": {
  "kernelspec": {
   "display_name": "Python (health3)",
   "language": "python",
   "name": "health3"
  },
  "language_info": {
   "codemirror_mode": {
    "name": "ipython",
    "version": 3
   },
   "file_extension": ".py",
   "mimetype": "text/x-python",
   "name": "python",
   "nbconvert_exporter": "python",
   "pygments_lexer": "ipython3",
   "version": "3.7.3"
  }
 },
 "nbformat": 4,
 "nbformat_minor": 2
}
