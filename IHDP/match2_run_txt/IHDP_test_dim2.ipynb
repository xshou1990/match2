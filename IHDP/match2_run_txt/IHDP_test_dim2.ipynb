{
 "cells": [
  {
   "cell_type": "code",
   "execution_count": null,
   "metadata": {},
   "outputs": [],
   "source": [
    "import sys\n",
    "sys.path.append('../../')\n",
    "\n",
    "import numpy as np\n",
    "import pandas as pd\n",
    "import tensorflow as tf\n",
    "import random as rn\n",
    "from keras import backend as K\n",
    "import warnings\n",
    "warnings.simplefilter(action='ignore', category=FutureWarning)\n",
    "warnings.simplefilter(action='ignore', category=DeprecationWarning)\n",
    "\n",
    "from Match_SOM import MATCHSOM\n",
    "from utility import neuron_idx, idx_convert\n",
    "from metrics import aveNN_ATT\n",
    "from sklearn.model_selection import train_test_split\n",
    "import pickle\n",
    "import keras\n",
    "import time"
   ]
  },
  {
   "cell_type": "code",
   "execution_count": null,
   "metadata": {},
   "outputs": [],
   "source": [
    "ihdp_tr = np.load('../../data/ihdp_npci_1-100.train.npz')\n",
    "ihdp_te = np.load('../../data/ihdp_npci_1-100.test.npz')"
   ]
  },
  {
   "cell_type": "code",
   "execution_count": null,
   "metadata": {},
   "outputs": [],
   "source": [
    "X_tr, T_tr, O_tr = ihdp_tr['x'],  ihdp_tr['t'], ihdp_tr['yf']\n",
    "X_te, T_te, O_te = ihdp_te['x'],  ihdp_te['t'], ihdp_te['yf']"
   ]
  },
  {
   "cell_type": "code",
   "execution_count": null,
   "metadata": {},
   "outputs": [],
   "source": [
    "col_name = []\n",
    "for i in range(25):\n",
    "    col_name.append('feat{}'.format(i+1))\n",
    "col_name = col_name + ['assignment', 'outcome']  "
   ]
  },
  {
   "cell_type": "code",
   "execution_count": null,
   "metadata": {},
   "outputs": [],
   "source": [
    "start = time.time()\n",
    "\n",
    "ATT = []\n",
    "#testloss = []\n",
    "\n",
    "for i in range(100):   \n",
    "    \n",
    "    # training data\n",
    "    Xtrain,ytrain,o_tr = X_tr[:,:,i],T_tr[:,i],O_tr[:,i]\n",
    "    Xtest,ytest,o_te = X_te[:,:,i],T_te[:,i],O_te[:,i]\n",
    "    data = np.vstack((Xtrain,Xtest))\n",
    "    t = np.expand_dims(np.append(ytrain,ytest),axis=1).astype(int)\n",
    "    outcome = np.expand_dims(np.append(o_tr,o_te),axis=1)\n",
    "    xty = pd.DataFrame(np.append(np.append(data,t,axis=1),outcome,axis=1),columns = col_name)\n",
    "    \n",
    "    # set a seed\n",
    "    np.random.seed(0)\n",
    "    rn.seed(0)\n",
    "    config = tf.ConfigProto(intra_op_parallelism_threads=1,inter_op_parallelism_threads=1)\n",
    "    tf.set_random_seed(0)\n",
    "    sess = tf.Session(graph=tf.get_default_graph(), config=config)\n",
    "    K.set_session(sess)\n",
    "    \n",
    "    side = int(round(np.sqrt(5*np.sqrt(xty.shape[0])))) \n",
    "    map_size=(side,side)  \n",
    "    neuron_map = neuron_idx(map_size)  \n",
    "    \n",
    "    # Initialize model\n",
    "    matchsom = MATCHSOM(encoder_dims=[Xtrain.shape[-1], 2], map_size=map_size)    \n",
    "    optimizer = keras.optimizers.Adam(learning_rate=0.0001) \n",
    "    matchsom.initialize(ae_act='relu', ae_init='glorot_uniform')\n",
    "    matchsom.compile(gamma=1, optimizer=optimizer)\n",
    "    #testloss.append( matchsom.pretrain(X = Xtrain, y = ytrain, Xval = Xtest,yval = ytest, epochs= 1000))\n",
    "    # fitting \n",
    "    matchsom.fit(X_train = Xtrain, y_train=ytrain,\n",
    "                X_val=Xtest, y_val=ytest,\n",
    "                iterations=3000,\n",
    "                som_iterations=3000,\n",
    "                eval_interval=100,\n",
    "                save_epochs=10,\n",
    "                batch_size=64,\n",
    "                Tmax= 10,\n",
    "                Tmin=0.1,\n",
    "                decay= 'exponential',\n",
    "                save_dir='../../results/tmp')\n",
    "        \n",
    "    #  evaluate on the lalonde rct part data\n",
    "    _, distance = matchsom.model.predict(data)\n",
    "    bmu = np.argmin(distance,axis=1)\n",
    "    bmu_idx = idx_convert(bmu,neuron_map)\n",
    "    ta = aveNN_ATT(xty,bmu_idx,'cityblock')\n",
    "    ATT.append(ta)\n",
    "    \n",
    "\n",
    "dur = time.time()- start\n",
    "print(dur)"
   ]
  }
 ],
 "metadata": {
  "kernelspec": {
   "display_name": "Python (health3)",
   "language": "python",
   "name": "health3"
  },
  "language_info": {
   "codemirror_mode": {
    "name": "ipython",
    "version": 3
   },
   "file_extension": ".py",
   "mimetype": "text/x-python",
   "name": "python",
   "nbconvert_exporter": "python",
   "pygments_lexer": "ipython3",
   "version": "3.7.3"
  }
 },
 "nbformat": 4,
 "nbformat_minor": 2
}
